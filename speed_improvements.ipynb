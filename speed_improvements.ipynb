{
 "cells": [
  {
   "cell_type": "code",
   "execution_count": 1,
   "metadata": {},
   "outputs": [
    {
     "name": "stdout",
     "output_type": "stream",
     "text": [
      "Recording...\n",
      "Recording finished.\n",
      "2\n",
      "File saved as output.mp3\n"
     ]
    }
   ],
   "source": [
    "import sounddevice as sd\n",
    "import numpy as np\n",
    "from pydub import AudioSegment\n",
    "\n",
    "def record_audio(filename, duration, samplerate=44100):\n",
    "    print(\"Recording...\")\n",
    "    myrecording = sd.rec(int(samplerate * duration), samplerate=samplerate, channels=1, dtype='int16')\n",
    "    sd.wait()  # Wait until recording is finished\n",
    "    print(\"Recording finished.\")\n",
    "    \n",
    "    # Convert recording to AudioSegment for easy export\n",
    "    \n",
    "    print(myrecording.dtype.itemsize)\n",
    "    \n",
    "    audio = AudioSegment(\n",
    "        myrecording.tobytes(),\n",
    "        frame_rate=samplerate,\n",
    "        sample_width=myrecording.dtype.itemsize,\n",
    "        channels=1\n",
    "    )\n",
    "    \n",
    "    audio.export(filename, format=\"mp3\", bitrate=\"128k\")\n",
    "    print(f\"File saved as {filename}\")\n",
    "\n",
    "# Usage example:\n",
    "record_audio(\"output.mp3\", 5)  # Records for 10 seconds\n"
   ]
  },
  {
   "cell_type": "code",
   "execution_count": 2,
   "metadata": {},
   "outputs": [
    {
     "name": "stdout",
     "output_type": "stream",
     "text": [
      "pygame 2.5.2 (SDL 2.28.3, Python 3.11.6)\n",
      "Hello from the pygame community. https://www.pygame.org/contribute.html\n",
      "Playing output.mp3...\n",
      "Playback finished.\n"
     ]
    }
   ],
   "source": [
    "import pygame.mixer\n",
    "import time\n",
    "\n",
    "def play_audio(filename):\n",
    "    # Initialize the mixer module\n",
    "    pygame.mixer.init()\n",
    "    pygame.mixer.music.load(filename)\n",
    "    \n",
    "    print(f\"Playing {filename}...\")\n",
    "    pygame.mixer.music.play()\n",
    "\n",
    "    # This will keep the program running while the audio plays\n",
    "    while pygame.mixer.music.get_busy():\n",
    "        time.sleep(0.1)\n",
    "\n",
    "    print(\"Playback finished.\")\n",
    "\n",
    "# Usage example:\n",
    "play_audio(\"output.mp3\")\n"
   ]
  },
  {
   "cell_type": "code",
   "execution_count": 3,
   "metadata": {},
   "outputs": [
    {
     "name": "stderr",
     "output_type": "stream",
     "text": [
      "/Users/axelpeytavin/Documents/Projects/self-improving-ai/venv/lib/python3.11/site-packages/tqdm/auto.py:21: TqdmWarning: IProgress not found. Please update jupyter and ipywidgets. See https://ipywidgets.readthedocs.io/en/stable/user_install.html\n",
      "  from .autonotebook import tqdm as notebook_tqdm\n",
      "[2023-10-12 19:18:16.542] [ctranslate2] [thread 595882] [info] CPU: GenuineIntel (SSE4.1=true, AVX=true, AVX2=true, AVX512=true)\n",
      "[2023-10-12 19:18:16.542] [ctranslate2] [thread 595882] [info]  - Selected ISA: AVX2\n",
      "[2023-10-12 19:18:16.542] [ctranslate2] [thread 595882] [info]  - Use Intel MKL: true\n",
      "[2023-10-12 19:18:16.542] [ctranslate2] [thread 595882] [info]  - SGEMM backend: MKL (packed: false)\n",
      "[2023-10-12 19:18:16.542] [ctranslate2] [thread 595882] [info]  - GEMM_S16 backend: MKL (packed: false)\n",
      "[2023-10-12 19:18:16.542] [ctranslate2] [thread 595882] [info]  - GEMM_S8 backend: MKL (packed: false, u8s8 preferred: true)\n",
      "[2023-10-12 19:18:16.965] [ctranslate2] [thread 595882] [info] Loaded model /Users/axelpeytavin/.cache/huggingface/hub/models--guillaumekln--faster-whisper-base.en/snapshots/b9aa26eecb911386885c475d79736c5e76dd09bd on device cpu:0\n",
      "[2023-10-12 19:18:16.965] [ctranslate2] [thread 595882] [info]  - Binary version: 6\n",
      "[2023-10-12 19:18:16.965] [ctranslate2] [thread 595882] [info]  - Model specification revision: 3\n",
      "[2023-10-12 19:18:16.965] [ctranslate2] [thread 595882] [info]  - Selected compute type: int8_float32\n"
     ]
    },
    {
     "data": {
      "text/plain": [
       "' Alright dude, can you hear me? This is really important that this recording goes straight through the pipeline.'"
      ]
     },
     "execution_count": 3,
     "metadata": {},
     "output_type": "execute_result"
    }
   ],
   "source": [
    "from faster_whisper import WhisperModel\n",
    "import os\n",
    "\n",
    "# Add the CT2_VERBOSE=1 flag to the environment variables\n",
    "os.environ[\"CT2_VERBOSE\"] = \"1\"\n",
    "os.environ[\"KMP_DUPLICATE_LIB_OK\"] = \"TRUE\"\n",
    "\n",
    "model_size = \"base.en\"\n",
    "\n",
    "whisper = WhisperModel(model_size, device=\"cpu\", compute_type=\"int8\")\n",
    "\n",
    "segments, info = whisper.transcribe(\"output.mp3\")\n",
    "transcribed_segments = list(segments)\n",
    "transcribed_text = \" \".join([segment.text for segment in transcribed_segments])\n",
    "transcribed_text\n",
    "\n",
    "# Base is really really not that bad"
   ]
  },
  {
   "cell_type": "code",
   "execution_count": 7,
   "metadata": {},
   "outputs": [
    {
     "data": {
      "text/plain": [
       "' Alright dude, can you hear me? This is really important that this recording goes straight through the pipeline.'"
      ]
     },
     "execution_count": 7,
     "metadata": {},
     "output_type": "execute_result"
    }
   ],
   "source": [
    "segments, info = whisper.transcribe(\"output.mp3\")\n",
    "transcribed_segments = list(segments)\n",
    "transcribed_text = \" \".join([segment.text for segment in transcribed_segments])\n",
    "transcribed_text\n",
    "\n",
    "# 0.7sec, dang"
   ]
  },
  {
   "cell_type": "code",
   "execution_count": 4,
   "metadata": {},
   "outputs": [
    {
     "name": "stderr",
     "output_type": "stream",
     "text": [
      "Downloading (…)6f831b0d/config.json: 100%|██████████| 2.32k/2.32k [00:00<00:00, 6.03MB/s]\n",
      "Downloading (…)31b0d/vocabulary.txt:   0%|          | 0.00/422k [00:00<?, ?B/s]\n",
      "Downloading (…)31b0d/vocabulary.txt: 100%|██████████| 422k/422k [00:00<00:00, 3.10MB/s]\n",
      "Downloading (…)31b0d/tokenizer.json: 100%|██████████| 2.13M/2.13M [00:00<00:00, 4.98MB/s]\n",
      "\n",
      "\u001b[A\n",
      "\u001b[A\n",
      "\u001b[A\n",
      "\u001b[A\n",
      "\u001b[A\n",
      "\u001b[A\n",
      "Downloading model.bin: 100%|██████████| 75.5M/75.5M [00:01<00:00, 41.3MB/s]\n",
      "[2023-10-12 19:18:38.617] [ctranslate2] [thread 595882] [info] Loaded model /Users/axelpeytavin/.cache/huggingface/hub/models--guillaumekln--faster-whisper-tiny.en/snapshots/53b4a348cf5fad713d6322c9120d56326f831b0d on device cpu:0\n",
      "[2023-10-12 19:18:38.617] [ctranslate2] [thread 595882] [info]  - Binary version: 6\n",
      "[2023-10-12 19:18:38.617] [ctranslate2] [thread 595882] [info]  - Model specification revision: 3\n",
      "[2023-10-12 19:18:38.617] [ctranslate2] [thread 595882] [info]  - Selected compute type: int8_float32\n"
     ]
    },
    {
     "data": {
      "text/plain": [
       "' Alright dude, can you hear me? This is really important that this recording goes straight through the pipeline.'"
      ]
     },
     "execution_count": 4,
     "metadata": {},
     "output_type": "execute_result"
    }
   ],
   "source": [
    "from faster_whisper import WhisperModel\n",
    "import os\n",
    "\n",
    "# Add the CT2_VERBOSE=1 flag to the environment variables\n",
    "os.environ[\"CT2_VERBOSE\"] = \"1\"\n",
    "os.environ[\"KMP_DUPLICATE_LIB_OK\"] = \"TRUE\"\n",
    "\n",
    "model_size = \"tiny.en\"\n",
    "\n",
    "whisper = WhisperModel(model_size, device=\"cpu\", compute_type=\"int8\")\n",
    "\n",
    "segments, info = whisper.transcribe(\"output.mp3\")\n",
    "transcribed_segments = list(segments)\n",
    "transcribed_text = \" \".join([segment.text for segment in transcribed_segments])\n",
    "transcribed_text\n",
    "\n",
    "# Base is really really not that bad"
   ]
  },
  {
   "cell_type": "code",
   "execution_count": 6,
   "metadata": {},
   "outputs": [
    {
     "data": {
      "text/plain": [
       "' Alright dude, can you hear me? This is really important that this recording goes straight through the pipeline.'"
      ]
     },
     "execution_count": 6,
     "metadata": {},
     "output_type": "execute_result"
    }
   ],
   "source": [
    "segments, info = whisper.transcribe(\"output.mp3\")\n",
    "transcribed_segments = list(segments)\n",
    "transcribed_text = \" \".join([segment.text for segment in transcribed_segments])\n",
    "transcribed_text\n",
    "\n",
    "# Tiny computes it in like 0.7 sec? Wow"
   ]
  },
  {
   "cell_type": "code",
   "execution_count": null,
   "metadata": {},
   "outputs": [],
   "source": []
  }
 ],
 "metadata": {
  "kernelspec": {
   "display_name": "venv",
   "language": "python",
   "name": "python3"
  },
  "language_info": {
   "codemirror_mode": {
    "name": "ipython",
    "version": 3
   },
   "file_extension": ".py",
   "mimetype": "text/x-python",
   "name": "python",
   "nbconvert_exporter": "python",
   "pygments_lexer": "ipython3",
   "version": "3.11.6"
  }
 },
 "nbformat": 4,
 "nbformat_minor": 2
}
